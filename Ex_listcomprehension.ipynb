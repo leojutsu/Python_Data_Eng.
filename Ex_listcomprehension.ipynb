{
  "nbformat": 4,
  "nbformat_minor": 0,
  "metadata": {
    "colab": {
      "provenance": [],
      "authorship_tag": "ABX9TyMkcoTKttjSBZVP+GaTI7Eg",
      "include_colab_link": true
    },
    "kernelspec": {
      "name": "python3",
      "display_name": "Python 3"
    },
    "language_info": {
      "name": "python"
    }
  },
  "cells": [
    {
      "cell_type": "markdown",
      "metadata": {
        "id": "view-in-github",
        "colab_type": "text"
      },
      "source": [
        "<a href=\"https://colab.research.google.com/github/leojutsu/Python_Data_Eng./blob/main/Ex_listcomprehension.ipynb\" target=\"_parent\"><img src=\"https://colab.research.google.com/assets/colab-badge.svg\" alt=\"Open In Colab\"/></a>"
      ]
    },
    {
      "cell_type": "code",
      "source": [
        "def produto_mais_vendido(produtos):\n",
        "    contagem = {}\n",
        "\n",
        "    for produto in produtos:\n",
        "        if produto in contagem:\n",
        "            contagem[produto] += 1\n",
        "        else:\n",
        "            contagem[produto] = 1\n",
        "\n",
        "    max_produto = None\n",
        "    max_count = 0\n",
        "\n",
        "    for produto, count in contagem.items():\n",
        "        if count > max_count:\n",
        "            max_count = count\n",
        "            max_produto = produto\n",
        "\n",
        "    return max_produto\n",
        "\n",
        "def obter_entrada_produtos():\n",
        "    entrada = input()\n",
        "    produtos = [produto.strip() for produto in entrada.split(',')]\n",
        "    return produtos\n",
        "\n",
        "produtos = obter_entrada_produtos()\n",
        "print(produto_mais_vendido(produtos))"
      ],
      "metadata": {
        "colab": {
          "base_uri": "https://localhost:8080/"
        },
        "id": "JfHZElsrfu4P",
        "outputId": "a78899df-9fe8-43e9-b6e3-afd6829cd061"
      },
      "execution_count": 10,
      "outputs": [
        {
          "output_type": "stream",
          "name": "stdout",
          "text": [
            "Notebook, Mouse, Teclado, Mouse, Monitor, Mouse, Teclad\n",
            "Mouse\n"
          ]
        }
      ]
    },
    {
      "cell_type": "code",
      "source": [
        "# Duplique o preço\n",
        "precos = [120, 520, 100, 230, 100, 254]\n",
        "\n",
        "dobro_preco = []\n",
        "\n",
        "for preco in precos:\n",
        "  dobro_preco.append(preco * 2)\n",
        "\n",
        "print(dobro_preco)\n"
      ],
      "metadata": {
        "colab": {
          "base_uri": "https://localhost:8080/"
        },
        "id": "CZpIsXuDndrd",
        "outputId": "ed73e3aa-a96e-4a0f-f84e-0e5faf11863b"
      },
      "execution_count": 13,
      "outputs": [
        {
          "output_type": "stream",
          "name": "stdout",
          "text": [
            "[240, 1040, 200, 460, 200, 508]\n"
          ]
        }
      ]
    },
    {
      "cell_type": "code",
      "source": [
        "# Faça com list_comprehension\n",
        "precos = [120, 520, 100, 230, 100, 254]\n",
        "\n",
        "dobro_preco = [preco * 2 for preco in precos]\n",
        "\n",
        "print(dobro_preco)"
      ],
      "metadata": {
        "colab": {
          "base_uri": "https://localhost:8080/"
        },
        "id": "PEc0TJmcoSCb",
        "outputId": "15f5cee0-610e-4e8c-b73e-9a8eccd662b6"
      },
      "execution_count": 15,
      "outputs": [
        {
          "output_type": "stream",
          "name": "stdout",
          "text": [
            "[240, 1040, 200, 460, 200, 508]\n"
          ]
        }
      ]
    },
    {
      "cell_type": "code",
      "source": [
        "# Aplicar imposto de 10% para valores acima de 1000\n",
        "\n",
        "valores = [1200, 5200, 1000, 2300, 1000, 2540]\n",
        "\n",
        "imposto = []\n",
        "\n",
        "for valor in valores:\n",
        "  if valor > 1000:\n",
        "    imposto.append(valor * 0.1)\n",
        "\n",
        "print(imposto)"
      ],
      "metadata": {
        "colab": {
          "base_uri": "https://localhost:8080/"
        },
        "id": "L_gGpeKZo2Mr",
        "outputId": "7d28d753-bd63-49d8-e204-cafe1557b1c5"
      },
      "execution_count": 16,
      "outputs": [
        {
          "output_type": "stream",
          "name": "stdout",
          "text": [
            "[120.0, 520.0, 230.0, 254.0]\n"
          ]
        }
      ]
    },
    {
      "cell_type": "code",
      "source": [
        "# com list_comprehension\n",
        "\n",
        "valores = [1200, 5200, 1000, 2300, 1000, 2540]\n",
        "\n",
        "imposto = [valor * 0.1 for valor in valores if valor > 1000]\n",
        "\n",
        "print(imposto)"
      ],
      "metadata": {
        "colab": {
          "base_uri": "https://localhost:8080/"
        },
        "id": "rwC3TbNGpfC0",
        "outputId": "16092a0b-1350-4678-ed2f-917136b0c346"
      },
      "execution_count": 18,
      "outputs": [
        {
          "output_type": "stream",
          "name": "stdout",
          "text": [
            "[120.0, 520.0, 230.0, 254.0]\n"
          ]
        }
      ]
    }
  ]
}